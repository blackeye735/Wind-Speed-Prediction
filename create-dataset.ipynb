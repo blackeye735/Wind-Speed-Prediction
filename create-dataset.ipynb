{
 "cells": [
  {
   "cell_type": "code",
   "execution_count": null,
   "metadata": {},
   "outputs": [],
   "source": [
    "import os\n",
    "import gzip\n",
    "import requests\n",
    "import numpy as np\n",
    "import netCDF4 as nc\n",
    "from collections import OrderedDict as OD"
   ]
  },
  {
   "cell_type": "markdown",
   "metadata": {},
   "source": [
    "#### Fetching the Location of a place in `Berlin, Germany`\n",
    "\n",
    "- Longitude of the location is - 13.3946\n",
    "- Latitute of the location is - 52.5246"
   ]
  },
  {
   "cell_type": "code",
   "execution_count": null,
   "metadata": {},
   "outputs": [],
   "source": [
    "def create_dir(dir_name):\n",
    "    try:\n",
    "        os.mkdir(dir_name)\n",
    "        print(dir_name, \"Dir Created\")\n",
    "    except FileExistsError:\n",
    "        print(dir_name, \"Dir Already exists\")\n",
    "    return\n",
    "\n",
    "def fetch_decompress(url_param, file_name):\n",
    "    url = f'https://opendata.dwd.de/climate_environment/CDC/grids_germany/monthly/Project_TRY/{url_param}/{file_name}.gz'\n",
    "    with open(f'./{url_param}/{file_name}', 'wb+') as f:\n",
    "        print('Fetching URL: ', url)\n",
    "        payload = requests.get(url)\n",
    "        print(\"Fetched\", file_name)\n",
    "        dec_payload = gzip.decompress(payload.content)\n",
    "        print(\"Decompressed\", file_name)\n",
    "        f.write(dec_payload)\n",
    "        print('Completed Writing', file_name)\n",
    "    return\n",
    "\n",
    "def delete_file(url_param, file_name):\n",
    "    if os.path.exists(f\"./{url_param}/{file_name}\"):\n",
    "        os.remove(f\"./{url_param}/{file_name}\")\n",
    "        print(f\"Deleted '/{url_param}/{file_name}'\")\n",
    "    else:\n",
    "        print(f\"The file '/{url_param}/{file_name}' does not exist\")\n",
    "    return"
   ]
  },
  {
   "cell_type": "code",
   "execution_count": null,
   "metadata": {},
   "outputs": [],
   "source": [
    "def getclosest_ij(lats,lons,latpt,lonpt):\n",
    "    # find squared distance of every point on grid\n",
    "    dist_sq = (lats-latpt)**2 + (lons-lonpt)**2  \n",
    "    # 1D index of minimum dist_sq element\n",
    "    minindex_flattened = dist_sq.argmin()    \n",
    "    # Get 2D index for latvals and lonvals arrays from 1D index\n",
    "    return np.unravel_index(minindex_flattened, lats.shape)"
   ]
  },
  {
   "cell_type": "code",
   "execution_count": null,
   "metadata": {},
   "outputs": [],
   "source": [
    "def get_value(url_param, file_name, latpt, lonpt):\n",
    "    output_params = {'air_temperature_mean' : 'temperature',\n",
    "                     'pressure' : 'SLP',\n",
    "                     'wind_direction' : 'DD',\n",
    "                     'wind_speed' : 'FF'}\n",
    "    \n",
    "    output_variable = output_params[url_param]\n",
    "    \n",
    "    with nc.Dataset(f'./{url_param}/{file_name}') as ncfile:\n",
    "        print(f\"Opened netCDF: {file_name}\")\n",
    "        lon = f.variables['lon']\n",
    "        lat = f.variables['lat']\n",
    "        temp = f.variables[output_variable]\n",
    "        y, x = getclosest_ij(lat[:], lon[:], latpt, lonpt)\n",
    "        value = float(temp[0, y, x].data)\n",
    "        print(f\"Got the Value {value} from {file_name}\")\n",
    "        return "
   ]
  },
  {
   "cell_type": "code",
   "execution_count": null,
   "metadata": {},
   "outputs": [],
   "source": [
    "params = OD({'air_temperature_mean' : 'TT',\n",
    "'pressure' : 'PRED',\n",
    "'wind_direction' : 'DD',\n",
    "'wind_speed' : 'FF'})"
   ]
  },
  {
   "cell_type": "code",
   "execution_count": null,
   "metadata": {},
   "outputs": [],
   "source": [
    "lon, lat = 13.3946, 52.5246"
   ]
  },
  {
   "cell_type": "code",
   "execution_count": null,
   "metadata": {},
   "outputs": [],
   "source": [
    "start_year = 1995\n",
    "end_year = 2004\n",
    "start_month = 1\n",
    "end_month = 12\n",
    "\n",
    "csvfile = open('./dataset.csv', 'w+')\n",
    "csvfile.write(','.join([i for i in params]))\n",
    "\n",
    "for year in range(start_year, end_year+1):\n",
    "    for month in range(start_month, end_month+1):\n",
    "        value_list = []\n",
    "        for url_param, measurement_param in params.items():\n",
    "            print(f\"Fetching {url_param} of Year: {year} of Month: {month}\")\n",
    "            file_name = f'{measurement_param}_{year}{month:02d}_monmean.nc'\n",
    "            create_dir(url_param)\n",
    "            fetch_decompress(url_param, file_name)\n",
    "            value = get_value(url_param, file_name, lat, lon)\n",
    "            value_list.append(str(value))\n",
    "        value_list.append('\\n')\n",
    "        csv_row = ','.join(value_list)\n",
    "        print(csv_row)\n",
    "        csvfile.write(csv_row)\n",
    "        delete_file(url_param, file_name)\n",
    "    break\n",
    "    \n",
    "csvfile.close()"
   ]
  },
  {
   "cell_type": "code",
   "execution_count": null,
   "metadata": {},
   "outputs": [],
   "source": []
  }
 ],
 "metadata": {
  "kernelspec": {
   "display_name": "Python 3",
   "language": "python",
   "name": "python3"
  },
  "language_info": {
   "codemirror_mode": {
    "name": "ipython",
    "version": 3
   },
   "file_extension": ".py",
   "mimetype": "text/x-python",
   "name": "python",
   "nbconvert_exporter": "python",
   "pygments_lexer": "ipython3",
   "version": "3.7.4"
  }
 },
 "nbformat": 4,
 "nbformat_minor": 2
}
